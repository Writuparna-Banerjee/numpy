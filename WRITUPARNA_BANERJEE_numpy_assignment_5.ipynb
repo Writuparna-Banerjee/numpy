{
  "nbformat": 4,
  "nbformat_minor": 0,
  "metadata": {
    "colab": {
      "name": "WRITUPARNA BANERJEE - numpy-assignment-5.ipynb",
      "provenance": [],
      "collapsed_sections": []
    },
    "kernelspec": {
      "name": "python3",
      "display_name": "Python 3"
    }
  },
  "cells": [
    {
      "cell_type": "markdown",
      "metadata": {
        "id": "HHEofVKhbKOJ",
        "colab_type": "text"
      },
      "source": [
        "Let me tell you a story, Once a statistician was lost in a jungle. It was pitch dark. Nothing could be seen around. The statistician was afraid but he kept moving. Suddenly, he saw a small house. He went there and knocked on the door. Someone opened the door. \n",
        "\n",
        "Guess what was the first question that came out of the statistician's mouth...\n",
        "\n",
        "Bhaiya, yahan kahin aas paas Normal Distribution milega?\n",
        "\n",
        "That's how important Normal distribution is in a Statistician's (read, Data Analyst) life. Whenever a statistician is lost in an analysis, his/her first response is to reach or find a normal distribution somewhere. \n",
        "\n",
        "![alt text](https://media2.giphy.com/media/maIEBUU5OmrMA/source.gif)\n",
        "\n",
        "Although, we are going to study Normal Distribution in future episodes:). Today I want you to get a feel of the Normal/Gaussian Distribution."
      ]
    },
    {
      "cell_type": "markdown",
      "metadata": {
        "id": "udWaNZcNehRo",
        "colab_type": "text"
      },
      "source": [
        "In a normal distribution, there are 2 things of utmost importance, Mean and the Standard Deviation. ([Read more about Normal Distribution here](https://en.wikipedia.org/wiki/Normal_distribution)).\n",
        "\n",
        "I want you to create a function which takes 2 inputs - the Mean and Standard Deviation and prints out the graph of the Normal Distribution (also known as PDF, you will find the formula in the wiki article). Assume x is given and calculate y using the pdf formula. The resultant graph would look something like this (any one of them):!\n",
        "\n",
        "![](https://upload.wikimedia.org/wikipedia/commons/thumb/7/74/Normal_Distribution_PDF.svg/340px-Normal_Distribution_PDF.svg.png)"
      ]
    },
    {
      "cell_type": "code",
      "metadata": {
        "id": "fhPRbXGiXaoK",
        "colab_type": "code",
        "colab": {}
      },
      "source": [
        "import numpy as np\n",
        "import scipy.stats as stats\n",
        "import matplotlib.pyplot as plt\n",
        "\n",
        "# Write function code here\n",
        "def plotter(meanValue,sdValue):\n",
        "  u= meanValue ## mean value\n",
        "  sd= sdValue  ## standard deviation\n",
        "  x=np.linspace(-10,10,100) ## value of x\n",
        "  plt.plot(x,stats.norm.pdf(x, u, sd))  ## pdf= [1/(sigma*square root of 2 pi)]* exp ^ (-z^2/2), where z is normal variate, z= (x-u)/sd\n",
        "  plt.show()\n",
        "  \n",
        "\n"
      ],
      "execution_count": 0,
      "outputs": []
    },
    {
      "cell_type": "code",
      "metadata": {
        "id": "iOBQUv1EDphz",
        "colab_type": "code",
        "outputId": "2dc53aea-aa1a-4b96-cde9-7a59e4e495ad",
        "colab": {
          "base_uri": "https://localhost:8080/",
          "height": 265
        }
      },
      "source": [
        "plotter (1,2)"
      ],
      "execution_count": 0,
      "outputs": [
        {
          "output_type": "display_data",
          "data": {
            "image/png": "[encoded data removed]",
            "text/plain": [
              "<Figure size 432x288 with 1 Axes>"
            ]
          },
          "metadata": {
            "tags": []
          }
        }
      ]
    },
    {
      "cell_type": "code",
      "metadata": {
        "id": "p9x7LVMBgs43",
        "colab_type": "code",
        "colab": {}
      },
      "source": [
        "# You have write a function which takes 2 numpy array as input and returns \"Hoga\" or \"Nahi Hoga\" \n",
        "# depending on if broadcasting is possible on those two arrays"
      ],
      "execution_count": 0,
      "outputs": []
    },
    {
      "cell_type": "code",
      "metadata": {
        "id": "1G3RYovHJRYj",
        "colab_type": "code",
        "colab": {}
      },
      "source": [
        "# Write your logic here\n",
        "def hoga_ki_nahi(arr1, arr2):\n",
        "  x1= np.array(arr1).shape\n",
        "  x2= np.array(arr2).shape\n",
        "  p=x1[0]\n",
        "  q=x1[1]\n",
        "  r=x2[0]\n",
        "  s=x2[1]\n",
        "  if((p==1 or  r==1 ) and (q==s) or (q==1 or s==1) and (p==r) or (p==1 and s==1 and q==r) or (q==1 and r==1 and p==s) or (p==1 and q==1 or r==1 and s==1)):\n",
        "    return 'hoga'\n",
        "  elif(x1==x2):\n",
        "    return 'broad casting not required'\n",
        "  else:\n",
        "    return 'nahi hoga'"
      ],
      "execution_count": 0,
      "outputs": []
    },
    {
      "cell_type": "code",
      "metadata": {
        "id": "fKetyMp5x3J2",
        "colab_type": "code",
        "outputId": "0187053f-e710-4464-cb42-43d6c6e717e1",
        "colab": {
          "base_uri": "https://localhost:8080/",
          "height": 34
        }
      },
      "source": [
        "arr1=np.arange(3).reshape(1,3)\n",
        "arr2=np.arange(6).reshape(2,3)\n",
        "hoga_ki_nahi(arr1, arr2)\n"
      ],
      "execution_count": 0,
      "outputs": [
        {
          "output_type": "execute_result",
          "data": {
            "text/plain": [
              "'hoga'"
            ]
          },
          "metadata": {
            "tags": []
          },
          "execution_count": 5
        }
      ]
    },
    {
      "cell_type": "code",
      "metadata": {
        "id": "0UVXuG0dzy2C",
        "colab_type": "code",
        "outputId": "a78a22a1-02af-4a36-9468-5f279033bae2",
        "colab": {
          "base_uri": "https://localhost:8080/",
          "height": 51
        }
      },
      "source": [
        "arr1+arr2"
      ],
      "execution_count": 0,
      "outputs": [
        {
          "output_type": "execute_result",
          "data": {
            "text/plain": [
              "array([[0, 2, 4],\n",
              "       [3, 5, 7]])"
            ]
          },
          "metadata": {
            "tags": []
          },
          "execution_count": 6
        }
      ]
    },
    {
      "cell_type": "code",
      "metadata": {
        "id": "IpoxfJJxza0a",
        "colab_type": "code",
        "outputId": "dfdfe08e-578a-49fe-fcb3-53fd074c7f5e",
        "colab": {
          "base_uri": "https://localhost:8080/",
          "height": 34
        }
      },
      "source": [
        "arr1=np.arange(4).reshape(2,2)\n",
        "arr2=np.arange(12).reshape(3,4)\n",
        "hoga_ki_nahi(arr1, arr2)\n",
        "\n"
      ],
      "execution_count": 0,
      "outputs": [
        {
          "output_type": "execute_result",
          "data": {
            "text/plain": [
              "'nahi hoga'"
            ]
          },
          "metadata": {
            "tags": []
          },
          "execution_count": 7
        }
      ]
    },
    {
      "cell_type": "code",
      "metadata": {
        "id": "MdIU7TTZz7Gp",
        "colab_type": "code",
        "outputId": "7516d786-1ea8-42ae-8fdb-de4d6754493b",
        "colab": {
          "base_uri": "https://localhost:8080/",
          "height": 163
        }
      },
      "source": [
        "arr1+arr2"
      ],
      "execution_count": 0,
      "outputs": [
        {
          "output_type": "error",
          "ename": "ValueError",
          "evalue": "ignored",
          "traceback": [
            "\u001b[0;31m---------------------------------------------------------------------------\u001b[0m",
            "\u001b[0;31mValueError\u001b[0m                                Traceback (most recent call last)",
            "\u001b[0;32m<ipython-input-8-e489ba1ad4d1>\u001b[0m in \u001b[0;36m<module>\u001b[0;34m()\u001b[0m\n\u001b[0;32m----> 1\u001b[0;31m \u001b[0marr1\u001b[0m\u001b[0;34m+\u001b[0m\u001b[0marr2\u001b[0m\u001b[0;34m\u001b[0m\u001b[0;34m\u001b[0m\u001b[0m\n\u001b[0m",
            "\u001b[0;31mValueError\u001b[0m: operands could not be broadcast together with shapes (2,2) (3,4) "
          ]
        }
      ]
    },
    {
      "cell_type": "code",
      "metadata": {
        "id": "dls-V0NFzsUf",
        "colab_type": "code",
        "outputId": "84831037-6149-4c21-aa7c-edfaee12d948",
        "colab": {
          "base_uri": "https://localhost:8080/",
          "height": 34
        }
      },
      "source": [
        "arr1=np.arange(3).reshape(1,3)\n",
        "arr2=np.arange(16).reshape(4,4)\n",
        "hoga_ki_nahi(arr1, arr2)\n"
      ],
      "execution_count": 0,
      "outputs": [
        {
          "output_type": "execute_result",
          "data": {
            "text/plain": [
              "'nahi hoga'"
            ]
          },
          "metadata": {
            "tags": []
          },
          "execution_count": 9
        }
      ]
    },
    {
      "cell_type": "code",
      "metadata": {
        "id": "Rkh5Sh-e0NmE",
        "colab_type": "code",
        "colab": {}
      },
      "source": [
        "arr1+arr2"
      ],
      "execution_count": 0,
      "outputs": []
    },
    {
      "cell_type": "code",
      "metadata": {
        "id": "PxMGHcpQ0QGe",
        "colab_type": "code",
        "outputId": "3d4940b2-14b5-479b-e5a1-86dfb0bdfe4f",
        "colab": {
          "base_uri": "https://localhost:8080/",
          "height": 34
        }
      },
      "source": [
        "arr1=np.arange(3).reshape(1,3)\n",
        "arr2=np.arange(3).reshape(3,1)\n",
        "hoga_ki_nahi(arr1, arr2)\n",
        "\n",
        "\n"
      ],
      "execution_count": 0,
      "outputs": [
        {
          "output_type": "execute_result",
          "data": {
            "text/plain": [
              "'hoga'"
            ]
          },
          "metadata": {
            "tags": []
          },
          "execution_count": 10
        }
      ]
    },
    {
      "cell_type": "code",
      "metadata": {
        "id": "EkzWZ36L0hVc",
        "colab_type": "code",
        "colab": {}
      },
      "source": [
        "arr1+arr2"
      ],
      "execution_count": 0,
      "outputs": []
    },
    {
      "cell_type": "code",
      "metadata": {
        "id": "S5jLi12i0j2g",
        "colab_type": "code",
        "outputId": "4cea28d4-6fe7-4e74-bce7-8f58c1802945",
        "colab": {
          "base_uri": "https://localhost:8080/",
          "height": 34
        }
      },
      "source": [
        "arr1=np.arange(6).reshape(2,3)\n",
        "arr2=np.arange(6).reshape(3,2)\n",
        "hoga_ki_nahi(arr1, arr2)\n",
        "\n",
        "\n",
        "\n"
      ],
      "execution_count": 0,
      "outputs": [
        {
          "output_type": "execute_result",
          "data": {
            "text/plain": [
              "'nahi hoga'"
            ]
          },
          "metadata": {
            "tags": []
          },
          "execution_count": 12
        }
      ]
    },
    {
      "cell_type": "code",
      "metadata": {
        "id": "W9UfRPOU0zNG",
        "colab_type": "code",
        "colab": {}
      },
      "source": [
        "arr1+arr2"
      ],
      "execution_count": 0,
      "outputs": []
    },
    {
      "cell_type": "code",
      "metadata": {
        "id": "r0v9DF4u01yD",
        "colab_type": "code",
        "colab": {}
      },
      "source": [
        ""
      ],
      "execution_count": 0,
      "outputs": []
    }
  ]
}