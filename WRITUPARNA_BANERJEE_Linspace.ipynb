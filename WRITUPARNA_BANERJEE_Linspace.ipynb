{
  "nbformat": 4,
  "nbformat_minor": 0,
  "metadata": {
    "colab": {
      "name": "WRITUPARNA BANERJEE - Linspace.ipynb",
      "provenance": [],
      "collapsed_sections": []
    },
    "kernelspec": {
      "name": "python3",
      "display_name": "Python 3"
    }
  },
  "cells": [
    {
      "cell_type": "code",
      "metadata": {
        "id": "uXZDUszdjgMn",
        "colab_type": "code",
        "colab": {}
      },
      "source": [
        "def myfunc(a,b,c): #considering a,b as the start and stop value and c as the total no. of points\n",
        "    a = float(a)\n",
        "    b = float(b)\n",
        "    x = [a] ## storing the val of 1st in the outputlist\n",
        "    gap = b-a\n",
        "    incrimental_value = gap/(c-1)  \n",
        "    \"\"\"cause : let there be n points out of which the 1st and nth element are specified and let \n",
        "               there be total 5 points on the line. So the difference between the first and nth value gives the \n",
        "               total interval which needs to be divided into (5-1)=4 equal intervals to get 5 points on the line with equal \n",
        "               spacing between them.\n",
        "    \"\"\"\n",
        "\n",
        "\n",
        "    i = 0\n",
        "    while(i<c-2):\n",
        "        a = a + incrimental_value\n",
        "        s = format(a,\".8f\") ## formating the float \n",
        "        s = float(s) # return of format() is always string so converting it further in float\n",
        "        x.append(s) ## updating the list by adding the points which lies b/w initial and final value\n",
        "        i=i+1\n",
        "    x.append(b)\n",
        "    print(x)\n",
        "    \n"
      ],
      "execution_count": 0,
      "outputs": []
    },
    {
      "cell_type": "code",
      "metadata": {
        "id": "FWu95K6Ry2GU",
        "colab_type": "code",
        "outputId": "a1675556-fe71-45d6-dbb8-bc35d3bb20f8",
        "colab": {
          "base_uri": "https://localhost:8080/",
          "height": 34
        }
      },
      "source": [
        "myfunc(20,10,10)"
      ],
      "execution_count": 0,
      "outputs": [
        {
          "output_type": "stream",
          "text": [
            "[20.0, 18.88888889, 17.77777778, 16.66666667, 15.55555556, 14.44444444, 13.33333333, 12.22222222, 11.11111111, 10.0]\n"
          ],
          "name": "stdout"
        }
      ]
    },
    {
      "cell_type": "code",
      "metadata": {
        "id": "tRlZKaxvy3nN",
        "colab_type": "code",
        "outputId": "9030c0bc-f92f-4144-d23d-28e76b014c5e",
        "colab": {
          "base_uri": "https://localhost:8080/",
          "height": 51
        }
      },
      "source": [
        "import numpy as np\n",
        "np.linspace(20,10,10)"
      ],
      "execution_count": 0,
      "outputs": [
        {
          "output_type": "execute_result",
          "data": {
            "text/plain": [
              "array([20.        , 18.88888889, 17.77777778, 16.66666667, 15.55555556,\n",
              "       14.44444444, 13.33333333, 12.22222222, 11.11111111, 10.        ])"
            ]
          },
          "metadata": {
            "tags": []
          },
          "execution_count": 12
        }
      ]
    },
    {
      "cell_type": "code",
      "metadata": {
        "id": "8n4MfVOS48qd",
        "colab_type": "code",
        "colab": {}
      },
      "source": [
        ""
      ],
      "execution_count": 0,
      "outputs": []
    }
  ]
}