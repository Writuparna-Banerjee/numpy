{
  "nbformat": 4,
  "nbformat_minor": 0,
  "metadata": {
    "colab": {
      "name": "Assessment",
      "provenance": []
    },
    "kernelspec": {
      "name": "python3",
      "display_name": "Python 3"
    }
  },
  "cells": [
    {
      "cell_type": "code",
      "metadata": {
        "id": "1xiVD3MV6vdm",
        "colab_type": "code",
        "colab": {}
      },
      "source": [
        "Q1. Get the positions where elements of a and b match Input:\n",
        "\n",
        "a = np.array([1,2,3,2,3,4,3,4,5,6]) b = np.array([7,2,10,2,7,4,9,4,9,8])\n",
        "\n",
        "Output:\n",
        "\n",
        "(array([1, 3, 5, 7]),)"
      ],
      "execution_count": 0,
      "outputs": []
    },
    {
      "cell_type": "code",
      "metadata": {
        "id": "1vvudq1p6zuR",
        "colab_type": "code",
        "colab": {}
      },
      "source": [
        "import numpy as np"
      ],
      "execution_count": 0,
      "outputs": []
    },
    {
      "cell_type": "code",
      "metadata": {
        "id": "TKuj00Yx63RY",
        "colab_type": "code",
        "colab": {}
      },
      "source": [
        "a = np.array([1,2,3,2,3,4,3,4,5,6])\n",
        "b = np.array([7,2,10,2,7,4,9,4,9,8])"
      ],
      "execution_count": 0,
      "outputs": []
    },
    {
      "cell_type": "code",
      "metadata": {
        "id": "5nhcavQw7LgZ",
        "colab_type": "code",
        "outputId": "25c102dc-c723-46e7-b0e5-b4b6949455bd",
        "colab": {
          "base_uri": "https://localhost:8080/",
          "height": 35
        }
      },
      "source": [
        "np.where(a==b)"
      ],
      "execution_count": 0,
      "outputs": [
        {
          "output_type": "execute_result",
          "data": {
            "text/plain": [
              "(array([1, 3, 5, 7]),)"
            ]
          },
          "metadata": {
            "tags": []
          },
          "execution_count": 6
        }
      ]
    },
    {
      "cell_type": "code",
      "metadata": {
        "id": "qXiQVcdb7P2k",
        "colab_type": "code",
        "colab": {}
      },
      "source": [
        "Q2. Get all items between 5 and 10 from a.\n",
        "\n",
        "a = np.array([2, 6, 1, 9, 10, 3, 27])\n",
        "\n",
        "\n"
      ],
      "execution_count": 0,
      "outputs": []
    },
    {
      "cell_type": "code",
      "metadata": {
        "id": "4Gxpf4Ks7Y_y",
        "colab_type": "code",
        "colab": {}
      },
      "source": [
        "a = np.array([2, 6, 1, 9, 10, 3, 27])"
      ],
      "execution_count": 0,
      "outputs": []
    },
    {
      "cell_type": "code",
      "metadata": {
        "id": "xQgKqsyu7f55",
        "colab_type": "code",
        "outputId": "ef3a096d-d282-41df-beac-8fe8ae2ff469",
        "colab": {
          "base_uri": "https://localhost:8080/",
          "height": 35
        }
      },
      "source": [
        "a[(a>=5) & (a<=10)]"
      ],
      "execution_count": 0,
      "outputs": [
        {
          "output_type": "execute_result",
          "data": {
            "text/plain": [
              "array([ 6,  9, 10])"
            ]
          },
          "metadata": {
            "tags": []
          },
          "execution_count": 9
        }
      ]
    },
    {
      "cell_type": "code",
      "metadata": {
        "id": "FzqXKgL6BkYT",
        "colab_type": "code",
        "colab": {}
      },
      "source": [
        "Q3. Swap columns 1 and 2 in the array arr."
      ],
      "execution_count": 0,
      "outputs": []
    },
    {
      "cell_type": "code",
      "metadata": {
        "id": "TU-G5F5m7s1R",
        "colab_type": "code",
        "colab": {}
      },
      "source": [
        "\n",
        "arr = np.arange(9).reshape(3,3)"
      ],
      "execution_count": 0,
      "outputs": []
    },
    {
      "cell_type": "code",
      "metadata": {
        "id": "loOGty-p706D",
        "colab_type": "code",
        "outputId": "3ba72e6a-9a43-4c43-c368-b188783d22c7",
        "colab": {
          "base_uri": "https://localhost:8080/",
          "height": 72
        }
      },
      "source": [
        "arr"
      ],
      "execution_count": 0,
      "outputs": [
        {
          "output_type": "execute_result",
          "data": {
            "text/plain": [
              "array([[0, 1, 2],\n",
              "       [3, 4, 5],\n",
              "       [6, 7, 8]])"
            ]
          },
          "metadata": {
            "tags": []
          },
          "execution_count": 9
        }
      ]
    },
    {
      "cell_type": "code",
      "metadata": {
        "id": "ATlI0xYz72H-",
        "colab_type": "code",
        "colab": {}
      },
      "source": [
        "arr[:,[0,1]] = arr[:,[1,0]]\n"
      ],
      "execution_count": 0,
      "outputs": []
    },
    {
      "cell_type": "code",
      "metadata": {
        "id": "0KfO072BCD2c",
        "colab_type": "code",
        "outputId": "54e78bed-cc43-40e2-b275-f3642a86815e",
        "colab": {
          "base_uri": "https://localhost:8080/",
          "height": 72
        }
      },
      "source": [
        "arr"
      ],
      "execution_count": 0,
      "outputs": [
        {
          "output_type": "execute_result",
          "data": {
            "text/plain": [
              "array([[1, 0, 2],\n",
              "       [4, 3, 5],\n",
              "       [7, 6, 8]])"
            ]
          },
          "metadata": {
            "tags": []
          },
          "execution_count": 14
        }
      ]
    },
    {
      "cell_type": "code",
      "metadata": {
        "id": "DaTG0DeH79fA",
        "colab_type": "code",
        "colab": {}
      },
      "source": [
        "Q4. Reverse the rows of a 2D array arr.\n"
      ],
      "execution_count": 0,
      "outputs": []
    },
    {
      "cell_type": "code",
      "metadata": {
        "id": "owHZP0ImClLJ",
        "colab_type": "code",
        "colab": {}
      },
      "source": [
        "arr = np.arange(9).reshape(3,3)"
      ],
      "execution_count": 0,
      "outputs": []
    },
    {
      "cell_type": "code",
      "metadata": {
        "id": "FpilrX-o8GM0",
        "colab_type": "code",
        "outputId": "df952703-8ef6-43c9-97aa-96af2ee567cc",
        "colab": {
          "base_uri": "https://localhost:8080/",
          "height": 72
        }
      },
      "source": [
        "arr = np.arange(9).reshape(3,3)\n",
        "arr"
      ],
      "execution_count": 0,
      "outputs": [
        {
          "output_type": "execute_result",
          "data": {
            "text/plain": [
              "array([[0, 1, 2],\n",
              "       [3, 4, 5],\n",
              "       [6, 7, 8]])"
            ]
          },
          "metadata": {
            "tags": []
          },
          "execution_count": 19
        }
      ]
    },
    {
      "cell_type": "code",
      "metadata": {
        "id": "atFGzzZA8Nux",
        "colab_type": "code",
        "colab": {}
      },
      "source": [
        "arr[[0,1,2],:] = arr[[2,1,0],:]"
      ],
      "execution_count": 0,
      "outputs": []
    },
    {
      "cell_type": "code",
      "metadata": {
        "id": "jNWej3HaDJgf",
        "colab_type": "code",
        "outputId": "404ccc8f-b905-46df-e822-b324242602ad",
        "colab": {
          "base_uri": "https://localhost:8080/",
          "height": 72
        }
      },
      "source": [
        "arr"
      ],
      "execution_count": 0,
      "outputs": [
        {
          "output_type": "execute_result",
          "data": {
            "text/plain": [
              "array([[6, 7, 8],\n",
              "       [3, 4, 5],\n",
              "       [0, 1, 2]])"
            ]
          },
          "metadata": {
            "tags": []
          },
          "execution_count": 21
        }
      ]
    },
    {
      "cell_type": "code",
      "metadata": {
        "id": "k_aPISra8TLN",
        "colab_type": "code",
        "colab": {}
      },
      "source": [
        "Q5. Find the 5th and 95th percentile of iris's sepallength Note - Find input code in the next cell"
      ],
      "execution_count": 0,
      "outputs": []
    },
    {
      "cell_type": "code",
      "metadata": {
        "id": "gnE06eGV8ZU0",
        "colab_type": "code",
        "outputId": "842d6880-56b3-4679-c335-54caec9e4416",
        "colab": {
          "base_uri": "https://localhost:8080/",
          "height": 235
        }
      },
      "source": [
        "url = 'https://archive.ics.uci.edu/ml/machine-learning-databases/iris/iris.data'\n",
        "sepallength = np.genfromtxt(url, delimiter=',', dtype='float', usecols=[0])\n",
        "sepallength"
      ],
      "execution_count": 0,
      "outputs": [
        {
          "output_type": "execute_result",
          "data": {
            "text/plain": [
              "array([5.1, 4.9, 4.7, 4.6, 5. , 5.4, 4.6, 5. , 4.4, 4.9, 5.4, 4.8, 4.8,\n",
              "       4.3, 5.8, 5.7, 5.4, 5.1, 5.7, 5.1, 5.4, 5.1, 4.6, 5.1, 4.8, 5. ,\n",
              "       5. , 5.2, 5.2, 4.7, 4.8, 5.4, 5.2, 5.5, 4.9, 5. , 5.5, 4.9, 4.4,\n",
              "       5.1, 5. , 4.5, 4.4, 5. , 5.1, 4.8, 5.1, 4.6, 5.3, 5. , 7. , 6.4,\n",
              "       6.9, 5.5, 6.5, 5.7, 6.3, 4.9, 6.6, 5.2, 5. , 5.9, 6. , 6.1, 5.6,\n",
              "       6.7, 5.6, 5.8, 6.2, 5.6, 5.9, 6.1, 6.3, 6.1, 6.4, 6.6, 6.8, 6.7,\n",
              "       6. , 5.7, 5.5, 5.5, 5.8, 6. , 5.4, 6. , 6.7, 6.3, 5.6, 5.5, 5.5,\n",
              "       6.1, 5.8, 5. , 5.6, 5.7, 5.7, 6.2, 5.1, 5.7, 6.3, 5.8, 7.1, 6.3,\n",
              "       6.5, 7.6, 4.9, 7.3, 6.7, 7.2, 6.5, 6.4, 6.8, 5.7, 5.8, 6.4, 6.5,\n",
              "       7.7, 7.7, 6. , 6.9, 5.6, 7.7, 6.3, 6.7, 7.2, 6.2, 6.1, 6.4, 7.2,\n",
              "       7.4, 7.9, 6.4, 6.3, 6.1, 7.7, 6.3, 6.4, 6. , 6.9, 6.7, 6.9, 5.8,\n",
              "       6.8, 6.7, 6.7, 6.3, 6.5, 6.2, 5.9])"
            ]
          },
          "metadata": {
            "tags": []
          },
          "execution_count": 15
        }
      ]
    },
    {
      "cell_type": "code",
      "metadata": {
        "id": "TpUSfj_E9y7u",
        "colab_type": "code",
        "outputId": "937c080e-4b9f-4ebb-d319-c2975c5a1c0e",
        "colab": {
          "base_uri": "https://localhost:8080/",
          "height": 54
        }
      },
      "source": [
        "print(\"5th percentile value is\",np.percentile(sepallength,5))\n",
        "print(\"95th percentile value is\",np.percentile(sepallength,95))"
      ],
      "execution_count": 0,
      "outputs": [
        {
          "output_type": "stream",
          "text": [
            "5th percentile value is 4.6\n",
            "95th percentile value is 7.254999999999998\n"
          ],
          "name": "stdout"
        }
      ]
    },
    {
      "cell_type": "code",
      "metadata": {
        "id": "b0025JCE9OIA",
        "colab_type": "code",
        "colab": {}
      },
      "source": [
        "#Q6. Find the positions of NaN in the sepalLength numpy arraysepalLength=iris_2d[:,0]\n"
      ],
      "execution_count": 0,
      "outputs": []
    },
    {
      "cell_type": "code",
      "metadata": {
        "id": "p8TFon8Z-FBy",
        "colab_type": "code",
        "outputId": "686515ca-895f-4134-a3b3-a2415ccfd0f4",
        "colab": {
          "base_uri": "https://localhost:8080/",
          "height": 235
        }
      },
      "source": [
        "# This is the input of your question\n",
        "url = 'https://archive.ics.uci.edu/ml/machine-learning-databases/iris/iris.data'\n",
        "iris_2d = np.genfromtxt(url, delimiter=',', dtype='float')\n",
        "iris_2d[np.random.randint(150, size=20), np.random.randint(4, size=20)] = np.nan\n",
        "\n",
        "sepalLength=iris_2d[:,0]\n",
        "# This is the sepalLength\n",
        "sepalLength\n",
        "\n",
        "# Write your code here\n",
        "# Hint - You can use the isNan() function."
      ],
      "execution_count": 0,
      "outputs": [
        {
          "output_type": "execute_result",
          "data": {
            "text/plain": [
              "array([5.1, 4.9, 4.7, 4.6, 5. , 5.4, 4.6, 5. , 4.4, 4.9, 5.4, 4.8, 4.8,\n",
              "       4.3, 5.8, 5.7, 5.4, 5.1, 5.7, 5.1, 5.4, 5.1, 4.6, 5.1, 4.8, 5. ,\n",
              "       5. , 5.2, 5.2, 4.7, 4.8, 5.4, 5.2, 5.5, 4.9, 5. , nan, 4.9, 4.4,\n",
              "       5.1, 5. , 4.5, 4.4, 5. , 5.1, 4.8, 5.1, 4.6, 5.3, 5. , 7. , 6.4,\n",
              "       6.9, nan, 6.5, 5.7, 6.3, 4.9, 6.6, 5.2, 5. , 5.9, 6. , 6.1, 5.6,\n",
              "       6.7, 5.6, 5.8, 6.2, 5.6, 5.9, 6.1, 6.3, 6.1, 6.4, 6.6, 6.8, 6.7,\n",
              "       6. , 5.7, 5.5, 5.5, 5.8, 6. , 5.4, 6. , 6.7, nan, 5.6, 5.5, 5.5,\n",
              "       6.1, 5.8, 5. , 5.6, 5.7, nan, 6.2, 5.1, 5.7, 6.3, 5.8, 7.1, 6.3,\n",
              "       6.5, 7.6, 4.9, 7.3, 6.7, 7.2, 6.5, 6.4, 6.8, 5.7, 5.8, 6.4, 6.5,\n",
              "       7.7, nan, 6. , 6.9, 5.6, 7.7, 6.3, 6.7, nan, 6.2, 6.1, 6.4, 7.2,\n",
              "       7.4, 7.9, 6.4, 6.3, 6.1, 7.7, 6.3, 6.4, 6. , 6.9, 6.7, 6.9, 5.8,\n",
              "       6.8, 6.7, 6.7, 6.3, 6.5, 6.2, 5.9])"
            ]
          },
          "metadata": {
            "tags": []
          },
          "execution_count": 23
        }
      ]
    },
    {
      "cell_type": "code",
      "metadata": {
        "id": "oYYmxsS78dFx",
        "colab_type": "code",
        "colab": {}
      },
      "source": [
        "sepalLength[np.isnan(sepalLength)] = 0"
      ],
      "execution_count": 0,
      "outputs": []
    },
    {
      "cell_type": "code",
      "metadata": {
        "id": "DSA8mg8NERN-",
        "colab_type": "code",
        "outputId": "b1a8d3d1-ae07-48cc-9d40-da2699d05f46",
        "colab": {
          "base_uri": "https://localhost:8080/",
          "height": 35
        }
      },
      "source": [
        "np.where(sepalLength==0)"
      ],
      "execution_count": 0,
      "outputs": [
        {
          "output_type": "execute_result",
          "data": {
            "text/plain": [
              "(array([ 36,  53,  87,  96, 118, 125]),)"
            ]
          },
          "metadata": {
            "tags": []
          },
          "execution_count": 27
        }
      ]
    },
    {
      "cell_type": "code",
      "metadata": {
        "id": "N3bihrFZ8z33",
        "colab_type": "code",
        "colab": {}
      },
      "source": [
        "Q7 .Replace all the null values with 0 in the above used sepalLength array\n",
        "\n"
      ],
      "execution_count": 0,
      "outputs": []
    },
    {
      "cell_type": "code",
      "metadata": {
        "id": "lgb6LQWt-4Th",
        "colab_type": "code",
        "colab": {}
      },
      "source": [
        "sepalLength[np.isnan(sepalLength)] = 0"
      ],
      "execution_count": 0,
      "outputs": []
    },
    {
      "cell_type": "code",
      "metadata": {
        "id": "WYDpw0zE-9lN",
        "colab_type": "code",
        "outputId": "b4d1a537-0452-4a77-da07-f4c3caa408f2",
        "colab": {
          "base_uri": "https://localhost:8080/",
          "height": 235
        }
      },
      "source": [
        "sepalLength"
      ],
      "execution_count": 0,
      "outputs": [
        {
          "output_type": "execute_result",
          "data": {
            "text/plain": [
              "array([5.1, 4.9, 4.7, 4.6, 5. , 5.4, 4.6, 5. , 4.4, 4.9, 5.4, 4.8, 4.8,\n",
              "       4.3, 5.8, 5.7, 5.4, 5.1, 5.7, 5.1, 5.4, 5.1, 4.6, 5.1, 0. , 5. ,\n",
              "       0. , 5.2, 5.2, 4.7, 4.8, 5.4, 5.2, 5.5, 4.9, 5. , 5.5, 4.9, 4.4,\n",
              "       5.1, 5. , 4.5, 4.4, 5. , 5.1, 4.8, 5.1, 4.6, 5.3, 5. , 7. , 6.4,\n",
              "       6.9, 5.5, 6.5, 5.7, 6.3, 4.9, 6.6, 0. , 5. , 5.9, 6. , 6.1, 5.6,\n",
              "       6.7, 5.6, 5.8, 0. , 5.6, 5.9, 6.1, 6.3, 6.1, 6.4, 6.6, 0. , 6.7,\n",
              "       6. , 5.7, 5.5, 5.5, 5.8, 6. , 5.4, 6. , 6.7, 6.3, 5.6, 5.5, 5.5,\n",
              "       6.1, 5.8, 5. , 0. , 5.7, 5.7, 6.2, 5.1, 5.7, 6.3, 5.8, 7.1, 6.3,\n",
              "       6.5, 7.6, 4.9, 7.3, 6.7, 7.2, 6.5, 6.4, 6.8, 5.7, 5.8, 6.4, 6.5,\n",
              "       7.7, 7.7, 0. , 6.9, 5.6, 7.7, 6.3, 6.7, 7.2, 6.2, 6.1, 6.4, 7.2,\n",
              "       7.4, 7.9, 6.4, 6.3, 6.1, 7.7, 6.3, 6.4, 6. , 6.9, 6.7, 6.9, 5.8,\n",
              "       6.8, 6.7, 6.7, 6.3, 6.5, 6.2, 5.9])"
            ]
          },
          "metadata": {
            "tags": []
          },
          "execution_count": 27
        }
      ]
    },
    {
      "cell_type": "code",
      "metadata": {
        "id": "_2UZku7n_IBk",
        "colab_type": "code",
        "colab": {}
      },
      "source": [
        "Q8. Find the 2nd largest value for the given array.\n",
        "\n"
      ],
      "execution_count": 0,
      "outputs": []
    },
    {
      "cell_type": "code",
      "metadata": {
        "id": "SycJG3P5_K89",
        "colab_type": "code",
        "outputId": "f1175139-3f61-4cda-c792-57027dcae033",
        "colab": {
          "base_uri": "https://localhost:8080/",
          "height": 72
        }
      },
      "source": [
        "# Input\n",
        "arr=np.random.randint(23,78, size=9).reshape(3,3)\n",
        "arr\n",
        "\n",
        "# Write your code here"
      ],
      "execution_count": 0,
      "outputs": [
        {
          "output_type": "execute_result",
          "data": {
            "text/plain": [
              "array([[27, 43, 54],\n",
              "       [42, 23, 26],\n",
              "       [64, 38, 29]])"
            ]
          },
          "metadata": {
            "tags": []
          },
          "execution_count": 29
        }
      ]
    },
    {
      "cell_type": "code",
      "metadata": {
        "id": "Lmk6_-Uy_hm8",
        "colab_type": "code",
        "outputId": "03f12db9-cf34-4c47-9c51-eb5bbd5b506b",
        "colab": {
          "base_uri": "https://localhost:8080/",
          "height": 35
        }
      },
      "source": [
        "f = arr.flatten() ## 1d formation\n",
        "f.sort() ##sorting\n",
        "f[-2] ## negative indexing for second largest"
      ],
      "execution_count": 0,
      "outputs": [
        {
          "output_type": "execute_result",
          "data": {
            "text/plain": [
              "54"
            ]
          },
          "metadata": {
            "tags": []
          },
          "execution_count": 30
        }
      ]
    },
    {
      "cell_type": "code",
      "metadata": {
        "id": "3-WmHIOaHQb2",
        "colab_type": "code",
        "colab": {}
      },
      "source": [
        "Q9. From the array a, replace all values greater than 30 by 30 and less than 10 by 10."
      ],
      "execution_count": 0,
      "outputs": []
    },
    {
      "cell_type": "code",
      "metadata": {
        "id": "XqKZxoEPHckG",
        "colab_type": "code",
        "outputId": "c7de43a7-00d7-4837-f4d3-6b05ca5bf44f",
        "colab": {
          "base_uri": "https://localhost:8080/",
          "height": 72
        }
      },
      "source": [
        "a=np.random.randint(1,78, size=9).reshape(3,3)\n",
        "a"
      ],
      "execution_count": 0,
      "outputs": [
        {
          "output_type": "execute_result",
          "data": {
            "text/plain": [
              "array([[62, 53, 13],\n",
              "       [68, 14, 69],\n",
              "       [27, 38, 69]])"
            ]
          },
          "metadata": {
            "tags": []
          },
          "execution_count": 31
        }
      ]
    },
    {
      "cell_type": "code",
      "metadata": {
        "id": "wt3ZX1cFHggi",
        "colab_type": "code",
        "outputId": "e0a312be-0e25-46ce-fbf6-1db265958794",
        "colab": {
          "base_uri": "https://localhost:8080/",
          "height": 72
        }
      },
      "source": [
        "a[(a>=30)]=30\n",
        "a[(a<=10)]=10\n",
        "a"
      ],
      "execution_count": 0,
      "outputs": [
        {
          "output_type": "execute_result",
          "data": {
            "text/plain": [
              "array([[30, 30, 13],\n",
              "       [30, 14, 30],\n",
              "       [27, 30, 30]])"
            ]
          },
          "metadata": {
            "tags": []
          },
          "execution_count": 32
        }
      ]
    },
    {
      "cell_type": "code",
      "metadata": {
        "id": "f8GC4S9KHo5I",
        "colab_type": "code",
        "colab": {}
      },
      "source": [
        "Q10. Drop all nan values from a 1D numpy array"
      ],
      "execution_count": 0,
      "outputs": []
    },
    {
      "cell_type": "code",
      "metadata": {
        "id": "YAyrsFssHvI3",
        "colab_type": "code",
        "outputId": "964d68a2-81d6-4047-c026-9251a5624148",
        "colab": {
          "base_uri": "https://localhost:8080/",
          "height": 35
        }
      },
      "source": [
        "arr=np.array([1,2,3,np.nan,5,6,7,np.nan])\n",
        "arr\n",
        "\n",
        "# Write code here"
      ],
      "execution_count": 0,
      "outputs": [
        {
          "output_type": "execute_result",
          "data": {
            "text/plain": [
              "array([ 1.,  2.,  3., nan,  5.,  6.,  7., nan])"
            ]
          },
          "metadata": {
            "tags": []
          },
          "execution_count": 33
        }
      ]
    },
    {
      "cell_type": "code",
      "metadata": {
        "id": "GQYlFfEwHzWD",
        "colab_type": "code",
        "outputId": "052a36c8-00b9-46f8-ce97-cf09dad57b24",
        "colab": {
          "base_uri": "https://localhost:8080/",
          "height": 35
        }
      },
      "source": [
        "arr[np.logical_not(np.isnan(arr))] "
      ],
      "execution_count": 0,
      "outputs": [
        {
          "output_type": "execute_result",
          "data": {
            "text/plain": [
              "array([1., 2., 3., 5., 6., 7.])"
            ]
          },
          "metadata": {
            "tags": []
          },
          "execution_count": 34
        }
      ]
    },
    {
      "cell_type": "code",
      "metadata": {
        "id": "w6llzj2OH46q",
        "colab_type": "code",
        "colab": {}
      },
      "source": [
        ""
      ],
      "execution_count": 0,
      "outputs": []
    }
  ]
}